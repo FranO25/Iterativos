{
  "nbformat": 4,
  "nbformat_minor": 0,
  "metadata": {
    "colab": {
      "provenance": []
    },
    "kernelspec": {
      "name": "python3",
      "display_name": "Python 3"
    },
    "language_info": {
      "name": "python"
    }
  },
  "cells": [
    {
      "cell_type": "code",
      "source": [
        "# conversión de binario a decimal, decimal a binario.\n",
        "\n",
        "(\"Conversor printde bases\")\n",
        "print(\"Seleccione la conversión a realizar\")\n",
        "n=(int(input(\"marque '1' si desea convertir de decimal a binario, marque '2' si desea convertir de binario a decimal:\")))\n",
        "\n",
        "# decimal a .\n",
        "if n==1:\n",
        "  dec=(int(input(\"Introduzca el número decimal:\")))\n",
        "  bin=[]\n",
        "  if dec<=0:\n",
        "    print(\"El número binario es\",0)\n",
        "   \n",
        "  else:\n",
        "    while dec>0:\n",
        "     bin.insert(0,dec % 2)\n",
        "     dec=dec // 2\n",
        "        \n",
        "    print(\"el número decimal es:\",bin)\n",
        "\n",
        "# binario a decimal.\n",
        "elif n==2:\n",
        "  bin=(int(input(\"Introduzca el número binario:\")))\n",
        "  dec=0\n",
        "  i=0\n",
        "  while bin>0:\n",
        "    bin=int(bin // 10)\n",
        "    dec+=(bin % 10)*(2**i)\n",
        "    i=i+1\n",
        "  print(\"el número decimal es:\"dec)\n",
        "  \n",
        "   "
      ],
      "metadata": {
        "id": "XCZamdYoNQUB",
        "colab": {
          "base_uri": "https://localhost:8080/"
        },
        "outputId": "63f8d4d4-4c82-471b-9352-f3020123e8d1"
      },
      "execution_count": null,
      "outputs": [
        {
          "output_type": "stream",
          "name": "stdout",
          "text": [
            "Seleccione la conversión a realizar\n",
            "marque '1' si desea convertir de decimal a binario, marque '2' si desea convertir de binario a decimal:1\n",
            "Introduzca el número decimal:7\n",
            "el número decimal es: [1, 1, 1]\n"
          ]
        }
      ]
    }
  ]
}